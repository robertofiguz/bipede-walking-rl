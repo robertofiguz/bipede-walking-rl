{
 "cells": [
  {
   "cell_type": "code",
   "execution_count": null,
   "metadata": {},
   "outputs": [
    {
     "name": "stdout",
     "output_type": "stream",
     "text": [
      "\u001b[31mERROR: Could not find a version that satisfies the requirement openai_ros (from versions: none)\u001b[0m\n",
      "\u001b[31mERROR: No matching distribution found for openai_ros\u001b[0m\n",
      "\u001b[33mWARNING: You are using pip version 21.3.1; however, version 22.0.4 is available.\n",
      "You should consider upgrading via the '/Users/roberto/Projects/final_project/env/bin/python3 -m pip install --upgrade pip' command.\u001b[0m\n"
     ]
    }
   ],
   "source": [
    "! pip3 install openai_ros"
   ]
  },
  {
   "cell_type": "markdown",
   "metadata": {},
   "source": []
  },
  {
   "cell_type": "code",
   "execution_count": null,
   "metadata": {},
   "outputs": [],
   "source": [
    "from openai_ros.openai_ros_common import ROSLauncher\n",
    "def __init__(self, ros_ws_abspath):\n",
    "# We launch the ROSlaunch that spawns the robot into the world\n",
    "ROSLauncher(rospackage_name=\"turtlebot_gazebo\",\n",
    "            launch_file_name=\"put_turtlebot2_in_world.launch\",\n",
    "            ros_ws_abspath=ros_ws_abspath)"
   ]
  }
 ],
 "metadata": {
  "interpreter": {
   "hash": "e7d98898b07146d2026055a811c513628d447154c8ce21bc709e407424e7e89c"
  },
  "kernelspec": {
   "display_name": "Python 3.9.9 ('venv': venv)",
   "language": "python",
   "name": "python3"
  },
  "language_info": {
   "codemirror_mode": {
    "name": "ipython",
    "version": 3
   },
   "file_extension": ".py",
   "mimetype": "text/x-python",
   "name": "python",
   "nbconvert_exporter": "python",
   "pygments_lexer": "ipython3",
   "version": "3.9.9"
  },
  "orig_nbformat": 4
 },
 "nbformat": 4,
 "nbformat_minor": 2
}
