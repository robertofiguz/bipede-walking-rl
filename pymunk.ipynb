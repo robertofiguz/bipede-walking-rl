{
 "cells": [
  {
   "cell_type": "code",
   "execution_count": null,
   "metadata": {},
   "outputs": [
    {
     "ename": "",
     "evalue": "",
     "output_type": "error",
     "traceback": [
      "\u001b[1;31mFailed to start the Kernel. \n",
      "Kernel Python 2.7.18 64-bit is not usable. Check the Jupyter output tab for more information. \n",
      "View Jupyter <a href='command:jupyter.viewOutput'>log</a> for further details."
     ]
    }
   ],
   "source": [
    "import pymunk\n",
    "import pymunk.pygame_util\n",
    "import pygame\n",
    "\n",
    "GRAY = (220, 220, 220)\n",
    "\n",
    "pygame.init()\n",
    "size = 640, 240\n",
    "screen = pygame.display.set_mode(size)\n",
    "draw_options = pymunk.pygame_util.DrawOptions(screen)\n",
    "\n",
    "space = pymunk.Space()\n",
    "space.gravity = 0, -900\n",
    "\n",
    "b0 = space.static_body\n",
    "segment = pymunk.Segment(b0, (0, 0), (640, 0), 4)\n",
    "segment.elasticity = 1\n",
    "\n",
    "body = pymunk.Body(mass=1, moment=10)\n",
    "body.position = 100, 200\n",
    "\n",
    "circle = pymunk.Circle(body, radius=30)\n",
    "circle.elasticity = 0.95\n",
    "\n",
    "space.add(body, circle, segment)\n",
    "\n",
    "running = True\n",
    "while running:\n",
    "    for event in pygame.event.get():\n",
    "        if event.type == pygame.QUIT:\n",
    "            running = False\n",
    "            pygame.image.save(screen, 'intro1.png')\n",
    "\n",
    "    screen.fill(GRAY)\n",
    "    space.debug_draw(draw_options)\n",
    "    pygame.display.update()\n",
    "    space.step(0.01)\n",
    "\n",
    "pygame.quit()"
   ]
  },
  {
   "cell_type": "code",
   "execution_count": null,
   "metadata": {},
   "outputs": [],
   "source": []
  }
 ],
 "metadata": {
  "kernelspec": {
   "display_name": "Python 3",
   "language": "python",
   "name": "python3"
  },
  "language_info": {
   "codemirror_mode": {
    "name": "ipython",
    "version": 3
   },
   "file_extension": ".py",
   "mimetype": "text/x-python",
   "name": "python",
   "nbconvert_exporter": "python",
   "pygments_lexer": "ipython3",
   "version": "2.7.18"
  }
 },
 "nbformat": 4,
 "nbformat_minor": 0
}
